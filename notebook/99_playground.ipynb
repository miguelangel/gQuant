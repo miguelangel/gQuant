{
 "cells": [
  {
   "cell_type": "code",
   "execution_count": 1,
   "metadata": {},
   "outputs": [],
   "source": [
    "import cudf\n",
    "import pandas\n",
    "import statistics"
   ]
  },
  {
   "cell_type": "code",
   "execution_count": 2,
   "metadata": {},
   "outputs": [],
   "source": [
    "df = cudf.read_csv('./data/stock_price_hist.csv')\n",
    "df = df[['DTE', 'OPEN', 'CLOSE', 'HIGH', 'LOW', 'SM_ID', 'VOLUME']]\n",
    "df['VOLUME'] /= 1000\n",
    "# change the names\n",
    "df.columns = ['datetime', 'open', 'close', 'high', 'low', \"asset\", 'volume']"
   ]
  },
  {
   "cell_type": "code",
   "execution_count": 3,
   "metadata": {},
   "outputs": [
    {
     "name": "stdout",
     "output_type": "stream",
     "text": [
      "10.1 s ± 171 ms per loop (mean ± std. dev. of 3 runs, 5 loops each)\n"
     ]
    }
   ],
   "source": [
    "results_to_csv = %timeit -o -n 5 -r 3 df.to_csv('./data/_stock_price_hist.csv')"
   ]
  },
  {
   "cell_type": "code",
   "execution_count": 4,
   "metadata": {},
   "outputs": [
    {
     "name": "stderr",
     "output_type": "stream",
     "text": [
      "/conda/envs/rapids/lib/python3.6/site-packages/cudf/io/hdf.py:22: UserWarning: Using CPU via Pandas to write HDF dataset, this may be GPU accelerated in the future\n",
      "  warnings.warn(\"Using CPU via Pandas to write HDF dataset, this may \"\n",
      "/conda/envs/rapids/lib/python3.6/site-packages/cudf/io/hdf.py:22: UserWarning: Using CPU via Pandas to write HDF dataset, this may be GPU accelerated in the future\n",
      "  warnings.warn(\"Using CPU via Pandas to write HDF dataset, this may \"\n"
     ]
    },
    {
     "name": "stdout",
     "output_type": "stream",
     "text": [
      "4.84 s ± 60.9 ms per loop (mean ± std. dev. of 3 runs, 5 loops each)\n"
     ]
    }
   ],
   "source": [
    "results_to_hdf = %timeit -o -n 5 -r 3 df.to_hdf('./data/_stock_price_hist.hdf5', key='tmp')"
   ]
  },
  {
   "cell_type": "code",
   "execution_count": 5,
   "metadata": {},
   "outputs": [
    {
     "name": "stdout",
     "output_type": "stream",
     "text": [
      "On average, writing to csv is 2.08 slower than writing to hdf.\n"
     ]
    }
   ],
   "source": [
    "print(\"On average, writing to csv is {0:.2f} slower than writing to hdf.\"\n",
    "        .format(statistics.mean(results_to_csv.all_runs) / statistics.mean(results_to_hdf.all_runs)))"
   ]
  },
  {
   "cell_type": "code",
   "execution_count": 6,
   "metadata": {},
   "outputs": [
    {
     "name": "stdout",
     "output_type": "stream",
     "text": [
      "1.43 s ± 16.7 ms per loop (mean ± std. dev. of 3 runs, 5 loops each)\n"
     ]
    }
   ],
   "source": [
    "results_from_csv = %timeit -o -n 5 -r 3 csv = cudf.read_csv('./data/_stock_price_hist.csv')"
   ]
  },
  {
   "cell_type": "code",
   "execution_count": 7,
   "metadata": {},
   "outputs": [
    {
     "name": "stderr",
     "output_type": "stream",
     "text": [
      "/conda/envs/rapids/lib/python3.6/site-packages/cudf/io/hdf.py:13: UserWarning: Using CPU via Pandas to read HDF dataset, this may be GPU accelerated in the future\n",
      "  warnings.warn(\"Using CPU via Pandas to read HDF dataset, this may \"\n",
      "/conda/envs/rapids/lib/python3.6/site-packages/cudf/io/hdf.py:13: UserWarning: Using CPU via Pandas to read HDF dataset, this may be GPU accelerated in the future\n",
      "  warnings.warn(\"Using CPU via Pandas to read HDF dataset, this may \"\n"
     ]
    },
    {
     "name": "stdout",
     "output_type": "stream",
     "text": [
      "2.3 s ± 42.1 ms per loop (mean ± std. dev. of 3 runs, 5 loops each)\n"
     ]
    }
   ],
   "source": [
    "results_from_hdf = %timeit -o -n 5 -r 3 hdf = cudf.read_hdf('./data/_stock_price_hist.hdf5')"
   ]
  },
  {
   "cell_type": "code",
   "execution_count": 8,
   "metadata": {},
   "outputs": [
    {
     "name": "stdout",
     "output_type": "stream",
     "text": [
      "On average, reading from csv is 1.60 faster than writing to hdf.\n"
     ]
    }
   ],
   "source": [
    "print(\"On average, reading from csv is {0:.2f} faster than writing to hdf.\"\n",
    "        .format(statistics.mean(results_from_hdf.all_runs) / statistics.mean(results_from_csv.all_runs)))"
   ]
  }
 ],
 "metadata": {
  "kernelspec": {
   "display_name": "Python 3",
   "language": "python",
   "name": "python3"
  },
  "language_info": {
   "codemirror_mode": {
    "name": "ipython",
    "version": 3
   },
   "file_extension": ".py",
   "mimetype": "text/x-python",
   "name": "python",
   "nbconvert_exporter": "python",
   "pygments_lexer": "ipython3",
   "version": "3.6.8"
  }
 },
 "nbformat": 4,
 "nbformat_minor": 2
}
